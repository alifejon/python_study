{
 "cells": [
  {
   "cell_type": "code",
   "execution_count": 2,
   "metadata": {
    "scrolled": true
   },
   "outputs": [
    {
     "name": "stdout",
     "output_type": "stream",
     "text": [
      "14 valid files from 2350 files\n",
      "\n",
      "file #(1) 가.csv created.\n",
      "file #(2) 나.csv created.\n",
      "file #(3) 다.csv created.\n",
      "file #(4) 라.csv created.\n",
      "file #(5) 마.csv created.\n",
      "file #(6) 바.csv created.\n",
      "file #(7) 사.csv created.\n",
      "file #(8) 아.csv created.\n",
      "file #(9) 자.csv created.\n",
      "file #(10) 차.csv created.\n",
      "file #(11) 카.csv created.\n",
      "file #(12) 타.csv created.\n",
      "file #(13) 파.csv created.\n",
      "file #(14) 하.csv created.\n",
      "done.\n"
     ]
    }
   ],
   "source": [
    "'''\n",
    "    2017.09.25\n",
    "    @asher\n",
    "\n",
    "    Function: Read original phd08 data and convert to csv files.\n",
    "\n",
    "    Usage: phd08 dataset 폴더와 동일 레벨에서 실행 -> phd08_output 폴더에 글자별 csv 파일 생성\n",
    "    (phd08 dataset은 bigdata Google Drive 참고)\n",
    "\n",
    "    Columns:\n",
    "        FO(1): Font type (B:바다, D:돋움, G:고딕, H1:한양해서, H2:헤드라인, M:명조, N:나무, S:샘물, Y:엽서)\n",
    "        FS(1): Font size (0:12, 1:13: 2:14)\n",
    "        CP(1): The number of copies (0:0, 1:1, 2:2)\n",
    "        RE(1): Resolution (0:200, 1:240, 2:280)\n",
    "        TH(1): Threshold (0:140, 1:180, 2:220)\n",
    "        SL(1): Slope(Rotate) (0:-3deg, 1:0deg, 2:3deg)\n",
    "        HE(1): Height(pixels)\n",
    "        WD(1): Width(pixels)\n",
    "        Korean Character(1) (가, 각, 간, ...)\n",
    "        Image data(The number of columns = Rows X Cols)\n",
    "        Label(1): (0:가, 1:각, 2:간 ...)\n",
    "\n",
    "    Dependency: python3(anaconda), scipy, pillow\n",
    "'''\n",
    "\n",
    "import os\n",
    "import shutil\n",
    "import csv\n",
    "import numpy as np\n",
    "from scipy.misc import imresize\n",
    "import unicodedata\n",
    "\n",
    "# parameters\n",
    "SOURCE_DIR = \"/Users/jongoon/Documents/phd08\"\n",
    "TARGET_DIR = \"phd08_output_all\"\n",
    "FONT_LIST = ['B', 'D', 'G', 'H1', 'H2', 'M', 'N', 'S', 'Y']\n",
    "NEW_IMAGE_SIZE = (56, 56)\n",
    "\n",
    "# if the target directory (for output) already exists, remove it\n",
    "try:\n",
    "    shutil.rmtree(TARGET_DIR)\n",
    "except OSError:\n",
    "    pass\n",
    "\n",
    "# make a new target directory\n",
    "os.mkdir(TARGET_DIR)\n",
    "\n",
    "valid_files = []\n",
    "\n",
    "# check the number of valid files from the file list\n",
    "file_list = [unicodedata.normalize('NFC', f) for f in os.listdir(SOURCE_DIR)]\n",
    "for file_name in file_list:\n",
    "    is_in = False\n",
    "    for idx in range(len('가나다라마바사아자차카타파하')):\n",
    "        char = '가나다라마바사아자차카타파하'[idx]\n",
    "        if char in file_name:\n",
    "            is_in = True\n",
    "    if not is_in:\n",
    "        continue\n",
    "    file_path = os.path.join(SOURCE_DIR, file_name)\n",
    "\n",
    "    # is file?\n",
    "    if not os.path.isfile(file_path):\n",
    "        continue\n",
    "\n",
    "    # file size = 0?\n",
    "    if os.path.getsize(file_path) == 0:\n",
    "        continue\n",
    "\n",
    "    valid_files.append(file_name)\n",
    "\n",
    "print(\"{} valid files from {} files\\n\".format(len(valid_files),\n",
    "                                              len(os.listdir(SOURCE_DIR))))\n",
    "\n",
    "for num, file_name in enumerate(valid_files):\n",
    "    read_file_path = os.path.join(SOURCE_DIR, file_name)\n",
    "    write_file_path = os.path.join(TARGET_DIR, file_name[:-4] + '.csv')\n",
    "\n",
    "    with open(write_file_path, \"w\") as wf:\n",
    "        with open(read_file_path, \"r\") as rf:\n",
    "\n",
    "            while True:\n",
    "                line = rf.readline()\n",
    "\n",
    "                # check if line is EOF\n",
    "                if not line:\n",
    "                    break\n",
    "\n",
    "                # parse image description\n",
    "                data = line.strip().split(\"_\")\n",
    "\n",
    "                # parse rows, cols\n",
    "                rows, cols = rf.readline().strip().split()\n",
    "                data.append(rows)\n",
    "                data.append(cols)\n",
    "                data.append(file_name[:-4])\n",
    "\n",
    "                # print(data)\n",
    "\n",
    "                img = []\n",
    "\n",
    "                # get binary image data as a list\n",
    "                for i in range(0, int(rows), 1):\n",
    "                    img.append(list(rf.readline().strip()))\n",
    "\n",
    "                # list -> numpy array\n",
    "                img_array = np.asarray(img, dtype=np.uint8) * 256\n",
    "\n",
    "                # resize the image\n",
    "                img_array_resized = imresize(img_array,\n",
    "                                             size=NEW_IMAGE_SIZE,\n",
    "                                             interp='bilinear',\n",
    "                                             mode=None)\n",
    "\n",
    "                # line between each image data\n",
    "                rf.readline()\n",
    "\n",
    "                data += img_array_resized.ravel().tolist()\n",
    "                data.append(num)\n",
    "\n",
    "                # print(data)\n",
    "\n",
    "                # only write the data with the font you want to use\n",
    "                if data[0] in FONT_LIST:\n",
    "                    csv_wr = csv.writer(wf, dialect='excel')\n",
    "                    csv_wr.writerow(data)\n",
    "\n",
    "    print(\"file #({}) {} created.\".format(num + 1, file_name[:-4] + '.csv'))\n",
    "print(\"done.\")"
   ]
  },
  {
   "cell_type": "code",
   "execution_count": 70,
   "metadata": {},
   "outputs": [
    {
     "name": "stdout",
     "output_type": "stream",
     "text": [
      "True 가.txt\n"
     ]
    },
    {
     "data": {
      "text/plain": [
       "[]"
      ]
     },
     "execution_count": 70,
     "metadata": {},
     "output_type": "execute_result"
    }
   ],
   "source": [
    "\n",
    "valid_files = []\n",
    "\n",
    "\n",
    "file_list = [unicodedata.normalize('NFC', f) for f in os.listdir(SOURCE_DIR)]\n",
    "\n",
    "# check the number of valid files from the file list\n",
    "for file_name in file_list:\n",
    "# for file_name in os.listdir(SOURCE_DIR):\n",
    "    file_name = str(file_name)\n",
    "    is_in = False\n",
    "    print('가' in file_name, file_name)\n",
    "    \n",
    "    break\n",
    "    for char in ['가', '나', '다']:\n",
    "#     for idx in range(len('가나다라마바사아자차카타파하')):\n",
    "#         char = '가나다라마바사아자차카타파하'[idx]\n",
    "        print(char, file_name, char in file_name)\n",
    "        if char in file_name:\n",
    "            is_in = True\n",
    "    break\n",
    "    if not is_in:\n",
    "        continue\n",
    "    file_path = os.path.join(SOURCE_DIR, file_name)\n",
    "\n",
    "    # is file?\n",
    "    if not os.path.isfile(file_path):\n",
    "        continue\n",
    "\n",
    "    # file size = 0?\n",
    "    if os.path.getsize(file_path) == 0:\n",
    "        continue\n",
    "\n",
    "    valid_files.append(file_name)\n",
    "valid_files"
   ]
  },
  {
   "cell_type": "code",
   "execution_count": 69,
   "metadata": {},
   "outputs": [
    {
     "data": {
      "text/plain": [
       "False"
      ]
     },
     "execution_count": 69,
     "metadata": {},
     "output_type": "execute_result"
    }
   ],
   "source": [
    "'가.txt' in file_list"
   ]
  },
  {
   "cell_type": "code",
   "execution_count": 65,
   "metadata": {},
   "outputs": [
    {
     "name": "stdout",
     "output_type": "stream",
     "text": [
      "True 가.txt False {가} {가} 2 6 1\n"
     ]
    }
   ],
   "source": [
    "print('가' in '가.txt', file_name, '가' == file_name.split('.')[0], '{%s}' % file_name.split('.')[0], '{%s}' % '가', file_name.find('.txt'), len(file_name.split(',')[0]), len('가'))"
   ]
  }
 ],
 "metadata": {
  "kernelspec": {
   "display_name": "Python 3",
   "language": "python",
   "name": "python3"
  },
  "language_info": {
   "codemirror_mode": {
    "name": "ipython",
    "version": 3
   },
   "file_extension": ".py",
   "mimetype": "text/x-python",
   "name": "python",
   "nbconvert_exporter": "python",
   "pygments_lexer": "ipython3",
   "version": "3.6.0"
  }
 },
 "nbformat": 4,
 "nbformat_minor": 2
}
