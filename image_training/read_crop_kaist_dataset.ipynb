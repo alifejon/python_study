{
 "cells": [
  {
   "cell_type": "markdown",
   "metadata": {},
   "source": [
    "### KAIST Scene Text Database 전처리기:\n",
    "1. 데이터 url:http://www.iapr-tc11.org/mediawiki/index.php/KAIST_Scene_Text_Database\n",
    "1. 압축을 다 풀고 'kaist_dataset'아래에 이미지 데이터와 xml 파일을 두면\n",
    "1. 각 xml 파일에서 글자하나하나 위치정보를 읽어 원본 이미지에서 글자를 별도의 이미지 파일로 저장하는 작업을 수행한다.\n",
    "1. 결과물은 char_data 아래에 각 글자명으로 폴더를 만들고 그 아래에 원본파일명.글자명.idx.jpg로 저장\n",
    "    - char_data/{character}/{img_filename}.{character}.{idx}.jpg\n",
    "    - character가 .(dot)인 경우에는 {character}값을 dot으로 대체하여 처리\n",
    "    "
   ]
  },
  {
   "cell_type": "code",
   "execution_count": 1,
   "metadata": {
    "collapsed": true,
    "scrolled": true
   },
   "outputs": [],
   "source": [
    "%matplotlib inline\n",
    "\n",
    "import matplotlib.pyplot as plt\n",
    "import numpy as np\n",
    "from PIL import Image\n",
    "import xml.etree.ElementTree\n",
    "\n",
    "def plot_img_inline(img):\n",
    "    plt.figure()\n",
    "    plt.imshow(np.asarray(img))\n",
    "    plt.show()\n",
    "\n",
    "char_count = dict()\n",
    "\n",
    "def get_unique_img_name(target_path, index_name, char_name):\n",
    "    idx = 0\n",
    "    image_filename = '.'.join([index_name, char_name, str(idx), 'jpg'])\n",
    "    full_path = join(target_path, image_filename)\n",
    "    \n",
    "    while path.exists(full_path):\n",
    "        idx = idx + 1\n",
    "        image_filename = '.'.join([index_name, char_name, str(idx), 'jpg'])\n",
    "        full_path = join(target_path, image_filename)\n",
    "    return full_path\n",
    "\n",
    "def print_img(img, base_path, index_name, char_name):\n",
    "    target_path = join(base_path, char_name)\n",
    "    if not path.exists(target_path):\n",
    "        makedirs(target_path)\n",
    "\n",
    "    # 이미지 데이터들이 여러 폴더에 걸쳐있어서 같은 파일명과 같은 글자를 갖는 경우가 많음\n",
    "    # 뒤에 idx값을 추가해 서로 다른 데이터가 다른 파일명을 갖도록 함.\n",
    "    full_path = get_unique_img_name(target_path, index_name, char_name)\n",
    "    img.save(full_path)\n",
    "    \n",
    "    if char_name not in char_count:\n",
    "        char_count[char_name] = 1\n",
    "    else:\n",
    "        char_count[char_name] = char_count[char_name] + 1\n",
    "    \n",
    "def crop_character_images(base_path, index_name, output_path='char_data'):\n",
    "    image_filename = '.'.join([index_name, 'jpg'])\n",
    "    xml_filename = '.'.join([index_name, 'xml'])\n",
    "    \n",
    "    # xml 파일에 확장자를 빠트린 경우가 많음. xml 파일이 없는 경우에는 xml파일명을 확장자를 제외한 것으로 설정\n",
    "    if path.exists(join(base_path, xml_filename)) is False:\n",
    "        xml_filename = index_name\n",
    "    im = Image.open(join(base_path, image_filename))\n",
    "    \n",
    "#     plot_img_inline(im)\n",
    "    e = xml.etree.ElementTree.parse(join(base_path, xml_filename)).getroot()\n",
    "\n",
    "    for image in e:\n",
    "        for words in image:\n",
    "            if words.tag == 'words':\n",
    "                for word in words:\n",
    "                    for char in word:\n",
    "                        if len(char.attrib['char']) != 1:\n",
    "                            continue\n",
    "                            \n",
    "                        # 글자가 .인경우 dot으로 대체\n",
    "                        if char.attrib['char'] == '.':\n",
    "                            char.attrib['char'] = 'dot'\n",
    "                            \n",
    "                        # box 영역으로 crop\n",
    "                        box = (int(char.attrib['x']), int(char.attrib['y']), int(char.attrib['x']) + int(char.attrib['width']), int(char.attrib['y']) + int(char.attrib['height']))\n",
    "                        region = im.crop(box)\n",
    "#                         plot_img_inline(region)\n",
    "\n",
    "                        # 파일로 저장\n",
    "                        print_img(region, output_path, index_name, char.attrib['char'])"
   ]
  },
  {
   "cell_type": "code",
   "execution_count": 3,
   "metadata": {
    "scrolled": false
   },
   "outputs": [
    {
     "name": "stdout",
     "output_type": "stream",
     "text": [
      "###EXCEPTION kaist_dataset/English/Digital_Camera/(E.S)F-others 4\n",
      "###EXCEPTION kaist_dataset/Korean/Digital_Camera/E-night 3\n",
      "###EXCEPTION kaist_dataset/Korean/Digital_Camera/G-others 080116-0079\n",
      "###EXCEPTION kaist_dataset/Korean/Digital_Camera/indoor1 080119-0001\n",
      "###EXCEPTION kaist_dataset/Korean/Digital_Camera/outdoor1 99\n",
      "###EXCEPTION kaist_dataset/Korean/Digital_Camera/outdoor2 080119-0031\n",
      "###EXCEPTION kaist_dataset/Korean/Digital_Camera/outdoor2 2007-12-08-day-122\n",
      "###EXCEPTION kaist_dataset/Mixed/Digital_Camera/(C.S)C-outdoor1 063\n",
      "###EXCEPTION kaist_dataset/Mixed/Digital_Camera/(C.S)C-outdoor1 080119-0003\n"
     ]
    }
   ],
   "source": [
    "from os import listdir, path, makedirs\n",
    "from os.path import isfile, isdir, join, basename\n",
    "\n",
    "img_base_path = 'kaist_dataset'\n",
    "\n",
    "fail_filenames = []\n",
    "def get_recursive_dirlist(base_path):\n",
    "    # dirname을 얻어옴\n",
    "    sub_dirnames = [f for f in listdir(base_path) if isdir(join(base_path, f))]\n",
    "    for dirname in sub_dirnames:\n",
    "        # 각 dirname별로  recursive 호출\n",
    "        next_base_path = join(base_path, dirname)\n",
    "        get_recursive_dirlist(next_base_path)\n",
    "        \n",
    "        # 현재 dir에 jpg파일이 있는지 확인\n",
    "        # KAIST데이터셋은 xxx.jpg, xxx.xml, xxx.bmp 형식으로 있기 때문에, \n",
    "        # jpg파일 목록을 가져와서 이미지 데이터 목록을 확보\n",
    "        data_filenames = [path.splitext(f)[0] for f in listdir(next_base_path) if isfile(join(next_base_path, f)) and f.lower().endswith('.jpg')]        \n",
    "        for x in data_filenames:\n",
    "            try:\n",
    "                crop_character_images(next_base_path, x)\n",
    "            except:\n",
    "                # 데이터 형식이 잘못된 경우가 많아 exception이 발생한 경우는 그냥 버림. 대신 뭐가 문제였는지만 출력\n",
    "                print('###EXCEPTION', next_base_path, x)\n",
    "                fail_filenames.append((next_base_path, x))\n",
    "\n",
    "get_recursive_dirlist(img_base_path)"
   ]
  }
 ],
 "metadata": {
  "kernelspec": {
   "display_name": "Python 3",
   "language": "python",
   "name": "python3"
  },
  "language_info": {
   "codemirror_mode": {
    "name": "ipython",
    "version": 3
   },
   "file_extension": ".py",
   "mimetype": "text/x-python",
   "name": "python",
   "nbconvert_exporter": "python",
   "pygments_lexer": "ipython3",
   "version": "3.6.2"
  }
 },
 "nbformat": 4,
 "nbformat_minor": 2
}
