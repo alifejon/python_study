{
 "cells": [
  {
   "cell_type": "code",
   "execution_count": 3,
   "metadata": {
    "scrolled": true
   },
   "outputs": [
    {
     "name": "stdout",
     "output_type": "stream",
     "text": [
      "###EXCEPTION kaist_dataset/English/Digital_Camera/(E.S)F-others 4\n",
      "###EXCEPTION kaist_dataset/Korean/Digital_Camera/E-night 3\n",
      "###EXCEPTION kaist_dataset/Korean/Digital_Camera/G-others 080116-0079\n",
      "###EXCEPTION kaist_dataset/Korean/Digital_Camera/G-others 1\n",
      "###EXCEPTION kaist_dataset/Korean/Digital_Camera/G-others 2\n",
      "###EXCEPTION kaist_dataset/Korean/Digital_Camera/G-others 27\n",
      "###EXCEPTION kaist_dataset/Korean/Digital_Camera/G-others 33\n",
      "###EXCEPTION kaist_dataset/Korean/Digital_Camera/G-others 35\n",
      "###EXCEPTION kaist_dataset/Korean/Digital_Camera/G-others 38\n",
      "###EXCEPTION kaist_dataset/Korean/Digital_Camera/G-others 41\n",
      "###EXCEPTION kaist_dataset/Korean/Digital_Camera/indoor1 080119-0001\n",
      "###EXCEPTION kaist_dataset/Korean/Digital_Camera/outdoor1 11\n",
      "###EXCEPTION kaist_dataset/Korean/Digital_Camera/outdoor1 12\n",
      "###EXCEPTION kaist_dataset/Korean/Digital_Camera/outdoor1 14\n",
      "###EXCEPTION kaist_dataset/Korean/Digital_Camera/outdoor1 16\n",
      "###EXCEPTION kaist_dataset/Korean/Digital_Camera/outdoor1 19\n",
      "###EXCEPTION kaist_dataset/Korean/Digital_Camera/outdoor1 21\n",
      "###EXCEPTION kaist_dataset/Korean/Digital_Camera/outdoor1 22\n",
      "###EXCEPTION kaist_dataset/Korean/Digital_Camera/outdoor1 23\n",
      "###EXCEPTION kaist_dataset/Korean/Digital_Camera/outdoor1 24\n",
      "###EXCEPTION kaist_dataset/Korean/Digital_Camera/outdoor1 30\n",
      "###EXCEPTION kaist_dataset/Korean/Digital_Camera/outdoor1 32\n",
      "###EXCEPTION kaist_dataset/Korean/Digital_Camera/outdoor1 34\n",
      "###EXCEPTION kaist_dataset/Korean/Digital_Camera/outdoor1 5\n",
      "###EXCEPTION kaist_dataset/Korean/Digital_Camera/outdoor1 59\n",
      "###EXCEPTION kaist_dataset/Korean/Digital_Camera/outdoor1 99\n",
      "###EXCEPTION kaist_dataset/Korean/Digital_Camera/outdoor2 080119-0031\n",
      "###EXCEPTION kaist_dataset/Korean/Digital_Camera/outdoor2 2007-12-08-day-122\n",
      "###EXCEPTION kaist_dataset/Mixed/Digital_Camera/(C.S)C-outdoor1 063\n",
      "###EXCEPTION kaist_dataset/Mixed/Digital_Camera/(C.S)C-outdoor1 080119-0003\n",
      "###EXCEPTION kaist_dataset/Mixed/Digital_Camera/(C.S)C-outdoor1 10\n",
      "###EXCEPTION kaist_dataset/Mixed/Digital_Camera/(C.S)C-outdoor1 15\n",
      "###EXCEPTION kaist_dataset/Mixed/Digital_Camera/(C.S)C-outdoor1 17\n",
      "###EXCEPTION kaist_dataset/Mixed/Digital_Camera/(C.S)C-outdoor1 18\n",
      "###EXCEPTION kaist_dataset/Mixed/Digital_Camera/(C.S)C-outdoor1 20\n",
      "###EXCEPTION kaist_dataset/Mixed/Digital_Camera/(C.S)C-outdoor1 25\n",
      "###EXCEPTION kaist_dataset/Mixed/Digital_Camera/(C.S)C-outdoor1 26\n",
      "###EXCEPTION kaist_dataset/Mixed/Digital_Camera/(C.S)C-outdoor1 31\n",
      "###EXCEPTION kaist_dataset/Mixed/Digital_Camera/(C.S)C-outdoor1 42\n",
      "###EXCEPTION kaist_dataset/Mixed/Digital_Camera/(C.S)C-outdoor1 43\n",
      "###EXCEPTION kaist_dataset/Mixed/Digital_Camera/(C.S)C-outdoor1 44\n",
      "###EXCEPTION kaist_dataset/Mixed/Digital_Camera/(C.S)C-outdoor1 49\n",
      "###EXCEPTION kaist_dataset/Mixed/Digital_Camera/(C.S)C-outdoor1 9\n",
      "###EXCEPTION kaist_dataset/Mixed/Digital_Camera/(C.S)F-others 36\n"
     ]
    }
   ],
   "source": [
    "from os import listdir, path, makedirs\n",
    "from os.path import isfile, isdir, join, basename\n",
    "\n",
    "img_base_path = 'kaist_dataset'\n",
    "\n",
    "'''\n",
    "result = {\n",
    "    path1: {\n",
    "        path2: {\n",
    "            \n",
    "        }\n",
    "    }\n",
    "}\n",
    "'''\n",
    "\n",
    "fail_filenames = []\n",
    "def get_recursive_dirlist(base_path, result):\n",
    "#     print('###base_path', base_path)\n",
    "    sub_dirnames = [f for f in listdir(base_path) if isdir(join(base_path, f))]\n",
    "    for dirname in sub_dirnames:\n",
    "        result[dirname] = dict()\n",
    "        next_base_path = join(base_path, dirname)\n",
    "        get_recursive_dirlist(next_base_path, result[dirname])\n",
    "        data_filenames = [path.splitext(f)[0] for f in listdir(next_base_path) if isfile(join(next_base_path, f)) and f.lower().endswith('.jpg')]\n",
    "        \n",
    "        for x in data_filenames:\n",
    "            try:\n",
    "                crop_character_images(next_base_path, x)\n",
    "            except:\n",
    "                print('###EXCEPTION', next_base_path, x)\n",
    "                fail_filenames.append((next_base_path, x))\n",
    "#         list(map(lambda x: crop_character_images(next_base_path, x), data_filenames))\n",
    "        \n",
    "path_result = {}\n",
    "get_recursive_dirlist(img_base_path, path_result)"
   ]
  },
  {
   "cell_type": "code",
   "execution_count": 19,
   "metadata": {
    "scrolled": true
   },
   "outputs": [
    {
     "ename": "ParseError",
     "evalue": "encoding specified in XML declaration is incorrect: line 1, column 31 (<string>)",
     "output_type": "error",
     "traceback": [
      "Traceback \u001b[0;36m(most recent call last)\u001b[0m:\n",
      "  File \u001b[1;32m\"/Users/ali.jeon/.pyenv/versions/3.6.2/envs/ocr-test/lib/python3.6/site-packages/IPython/core/interactiveshell.py\"\u001b[0m, line \u001b[1;32m2862\u001b[0m, in \u001b[1;35mrun_code\u001b[0m\n    exec(code_obj, self.user_global_ns, self.user_ns)\n",
      "  File \u001b[1;32m\"<ipython-input-19-d4e9d0355443>\"\u001b[0m, line \u001b[1;32m1\u001b[0m, in \u001b[1;35m<module>\u001b[0m\n    crop_character_images('kaist_dataset/English/Digital_Camera/(E.S)F-others', '4')\n",
      "  File \u001b[1;32m\"<ipython-input-13-f5d618cdd0d0>\"\u001b[0m, line \u001b[1;32m36\u001b[0m, in \u001b[1;35mcrop_character_images\u001b[0m\n    e = xml.etree.ElementTree.parse(join(base_path, xml_filename)).getroot()\n",
      "  File \u001b[1;32m\"/Users/ali.jeon/.pyenv/versions/3.6.2/lib/python3.6/xml/etree/ElementTree.py\"\u001b[0m, line \u001b[1;32m1196\u001b[0m, in \u001b[1;35mparse\u001b[0m\n    tree.parse(source, parser)\n",
      "\u001b[0;36m  File \u001b[0;32m\"/Users/ali.jeon/.pyenv/versions/3.6.2/lib/python3.6/xml/etree/ElementTree.py\"\u001b[0;36m, line \u001b[0;32m597\u001b[0;36m, in \u001b[0;35mparse\u001b[0;36m\u001b[0m\n\u001b[0;31m    self._root = parser._parse_whole(source)\u001b[0m\n",
      "\u001b[0;36m  File \u001b[0;32m\"<string>\"\u001b[0;36m, line \u001b[0;32munknown\u001b[0m\n\u001b[0;31mParseError\u001b[0m\u001b[0;31m:\u001b[0m encoding specified in XML declaration is incorrect: line 1, column 31\n"
     ]
    }
   ],
   "source": [
    "crop_character_images('kaist_dataset/English/Digital_Camera/(E.S)F-others', '4')"
   ]
  },
  {
   "cell_type": "code",
   "execution_count": 1,
   "metadata": {
    "collapsed": true,
    "scrolled": true
   },
   "outputs": [],
   "source": [
    "%matplotlib inline\n",
    "\n",
    "import matplotlib.pyplot as plt\n",
    "import numpy as np\n",
    "from PIL import Image\n",
    "import xml.etree.ElementTree\n",
    "\n",
    "def plot_img_inline(img):\n",
    "    plt.figure()\n",
    "    plt.imshow(np.asarray(img))\n",
    "    plt.show()\n",
    "\n",
    "\n",
    "char_count = dict()\n",
    "\n",
    "def get_unique_img_name()\n",
    "\n",
    "def print_img(img, base_path, index_name, char_name):\n",
    "    target_path = join(base_path, char_name)\n",
    "    if not path.exists(target_path):\n",
    "        makedirs(target_path)\n",
    "    image_filename = '.'.join([index_name, char_name, 'jpg'])\n",
    "    full_path = join(target_path, image_filename)\n",
    "    if path.exists(full_path):\n",
    "        image_filename = '.'.join([index_name, char_name, 'jpg'])\n",
    "        full_path = join(target_path, image_filename)\n",
    "    img.save(full_path)\n",
    "    \n",
    "    if char_name not in char_count:\n",
    "        char_count[char_name] = 1\n",
    "    else:\n",
    "        char_count[char_name] = char_count[char_name] + 1\n",
    "    \n",
    "def crop_character_images(base_path, index_name, output_path='char_data'):\n",
    "    image_filename = '.'.join([index_name, 'jpg'])\n",
    "    xml_filename = '.'.join([index_name, 'xml'])\n",
    "    im = Image.open(join(base_path, image_filename))\n",
    "    \n",
    "#     plot_img_inline(im)\n",
    "#     print(join(base_path, xml_filename))\n",
    "    e = xml.etree.ElementTree.parse(join(base_path, xml_filename)).getroot()\n",
    "\n",
    "    for image in e:\n",
    "        for words in image:\n",
    "#             print(words.tag, words.attrib)\n",
    "            if words.tag == 'words':\n",
    "                for word in words:\n",
    "#                     print(word.tag, word.attrib)\n",
    "                    for char in word:\n",
    "#                         print(char.tag, char.attrib)\n",
    "                        box = (int(char.attrib['x']), int(char.attrib['y']), int(char.attrib['x']) + int(char.attrib['width']), int(char.attrib['y']) + int(char.attrib['height']))\n",
    "#                         print(box)\n",
    "                        region = im.crop(box)\n",
    "#                         plot_img_inline(region)\n",
    "                        print_img(region, output_path, index_name, char.attrib['char'])\n",
    "\n"
   ]
  },
  {
   "cell_type": "code",
   "execution_count": 55,
   "metadata": {
    "scrolled": true
   },
   "outputs": [
    {
     "name": "stdout",
     "output_type": "stream",
     "text": [
      "['(E.S)A-shadow', '(E.S)B-light', '(E.S)C-outdoor1', '(E.S)C-outdoor2', '(E.S)C-outdoor3', '(E.S)D-indoor', '(E.S)E-night', '(E.S)F-others', '.DS_Store']\n",
      "kaist_dataset/English/Digital_Camera\n",
      "[]\n"
     ]
    }
   ],
   "source": [
    "\n",
    "for parent_path, dir_names in data_dir_subdir_names.items():\n",
    "    for base_path in dir_names:\n",
    "        print(listdir(join(img_base_path, parent_path, base_path)))\n",
    "        print(join(img_base_path, parent_path, base_path))\n",
    "        data_filenames = [path.splitext(f)[0] for f in listdir(join(img_base_path, parent_path, base_path)) if isfile(join(img_base_path, parent_path, base_path, f)) and f.lower().endswith('.jpg')]\n",
    "        print(data_filenames)\n",
    "        break\n",
    "    break\n",
    "#         list(map(lambda x: crop_character_images(base_path, x), data_filenames))"
   ]
  }
 ],
 "metadata": {
  "kernelspec": {
   "display_name": "Python 3",
   "language": "python",
   "name": "python3"
  },
  "language_info": {
   "codemirror_mode": {
    "name": "ipython",
    "version": 3
   },
   "file_extension": ".py",
   "mimetype": "text/x-python",
   "name": "python",
   "nbconvert_exporter": "python",
   "pygments_lexer": "ipython3",
   "version": "3.6.2"
  }
 },
 "nbformat": 4,
 "nbformat_minor": 2
}
