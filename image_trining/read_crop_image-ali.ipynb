{
 "cells": [
  {
   "cell_type": "code",
   "execution_count": 98,
   "metadata": {
    "scrolled": true
   },
   "outputs": [],
   "source": [
    "%matplotlib inline\n",
    "\n",
    "import matplotlib.pyplot as plt\n",
    "import numpy as np\n",
    "from PIL import Image\n",
    "import xml.etree.ElementTree\n",
    "\n",
    "def plot_img_inline(img):\n",
    "    plt.figure()\n",
    "    plt.imshow(np.asarray(img))\n",
    "    plt.show()\n",
    "\n",
    "char_count = dict()\n",
    "\n",
    "def get_unique_img_name(target_path, index_name, char_name):\n",
    "    idx = 0\n",
    "    image_filename = '.'.join([index_name, char_name, str(idx), 'jpg'])\n",
    "    full_path = join(target_path, image_filename)\n",
    "    \n",
    "    while path.exists(full_path):\n",
    "        idx = idx + 1\n",
    "        image_filename = '.'.join([index_name, char_name, str(idx), 'jpg'])\n",
    "        full_path = join(target_path, image_filename)\n",
    "    return full_path\n",
    "\n",
    "def print_img(img, base_path, index_name, char_name):\n",
    "    target_path = join(base_path, char_name)\n",
    "    if not path.exists(target_path):\n",
    "        makedirs(target_path)\n",
    "\n",
    "    full_path = get_unique_img_name(target_path, index_name, char_name)\n",
    "    img.save(full_path)\n",
    "    \n",
    "    if char_name not in char_count:\n",
    "        char_count[char_name] = 1\n",
    "    else:\n",
    "        char_count[char_name] = char_count[char_name] + 1\n",
    "    \n",
    "def crop_character_images(base_path, index_name, output_path='char_data'):\n",
    "    image_filename = '.'.join([index_name, 'jpg'])\n",
    "    xml_filename = '.'.join([index_name, 'xml'])\n",
    "    if path.exists(join(base_path, xml_filename)) is False:\n",
    "        xml_filename = index_name\n",
    "    im = Image.open(join(base_path, image_filename))\n",
    "    \n",
    "#     plot_img_inline(im)\n",
    "    e = xml.etree.ElementTree.parse(join(base_path, xml_filename)).getroot()\n",
    "\n",
    "    for image in e:\n",
    "        for words in image:\n",
    "            if words.tag == 'words':\n",
    "                for word in words:\n",
    "                    for char in word:\n",
    "                        if len(char.attrib['char']) != 1:\n",
    "                            continue\n",
    "                        if char.attrib['char'] == '.':\n",
    "                            char.attrib['char'] = 'dot'\n",
    "                        box = (int(char.attrib['x']), int(char.attrib['y']), int(char.attrib['x']) + int(char.attrib['width']), int(char.attrib['y']) + int(char.attrib['height']))\n",
    "                        region = im.crop(box)\n",
    "#                         plot_img_inline(region)\n",
    "                        print_img(region, output_path, index_name, char.attrib['char'])"
   ]
  },
  {
   "cell_type": "code",
   "execution_count": 100,
   "metadata": {
    "scrolled": false
   },
   "outputs": [
    {
     "name": "stdout",
     "output_type": "stream",
     "text": [
      "###EXCEPTION kaist_dataset/English/Digital_Camera/(E.S)F-others 4\n",
      "###EXCEPTION kaist_dataset/Korean/Digital_Camera/G-others 080116-0079\n",
      "###EXCEPTION kaist_dataset/Korean/Digital_Camera/indoor1 080119-0001\n",
      "###EXCEPTION kaist_dataset/Korean/Digital_Camera/outdoor1 99\n",
      "###EXCEPTION kaist_dataset/Korean/Digital_Camera/outdoor2 080119-0031\n",
      "###EXCEPTION kaist_dataset/Korean/Digital_Camera/outdoor2 2007-12-08-day-122\n",
      "###EXCEPTION kaist_dataset/Mixed/Digital_Camera/(C.S)C-outdoor1 063\n",
      "###EXCEPTION kaist_dataset/Mixed/Digital_Camera/(C.S)C-outdoor1 080119-0003\n"
     ]
    }
   ],
   "source": [
    "from os import listdir, path, makedirs\n",
    "from os.path import isfile, isdir, join, basename\n",
    "\n",
    "img_base_path = 'kaist_dataset'\n",
    "\n",
    "'''\n",
    "result = {\n",
    "    path1: {\n",
    "        path2: {\n",
    "            \n",
    "        }\n",
    "    }\n",
    "}\n",
    "'''\n",
    "\n",
    "fail_filenames = []\n",
    "def get_recursive_dirlist(base_path):\n",
    "#     print('###base_path', base_path)\n",
    "    sub_dirnames = [f for f in listdir(base_path) if isdir(join(base_path, f))]\n",
    "    for dirname in sub_dirnames:\n",
    "        next_base_path = join(base_path, dirname)\n",
    "        get_recursive_dirlist(next_base_path)\n",
    "        data_filenames = [path.splitext(f)[0] for f in listdir(next_base_path) if isfile(join(next_base_path, f)) and f.lower().endswith('.jpg')]\n",
    "        \n",
    "        for x in data_filenames:\n",
    "            try:\n",
    "                crop_character_images(next_base_path, x)\n",
    "            except:\n",
    "                print('###EXCEPTION', next_base_path, x)\n",
    "                fail_filenames.append((next_base_path, x))\n",
    "#         list(map(lambda x: crop_character_images(next_base_path, x), data_filenames))\n",
    "\n",
    "get_recursive_dirlist(img_base_path)"
   ]
  }
 ],
 "metadata": {
  "kernelspec": {
   "display_name": "Python 3",
   "language": "python",
   "name": "python3"
  },
  "language_info": {
   "codemirror_mode": {
    "name": "ipython",
    "version": 3
   },
   "file_extension": ".py",
   "mimetype": "text/x-python",
   "name": "python",
   "nbconvert_exporter": "python",
   "pygments_lexer": "ipython3",
   "version": "3.6.0"
  }
 },
 "nbformat": 4,
 "nbformat_minor": 2
}
