{
 "cells": [
  {
   "cell_type": "code",
   "execution_count": 51,
   "metadata": {},
   "outputs": [
    {
     "data": {
      "text/plain": [
       "{'English': ['Digital_Camera', 'Mobile_Phone'],\n",
       " 'Korean': ['Digital_Camera', 'Mobile_Phone'],\n",
       " 'Mixed': ['Digital_Camera', 'Mobile_Phone']}"
      ]
     },
     "execution_count": 51,
     "metadata": {},
     "output_type": "execute_result"
    }
   ],
   "source": [
    "from os import listdir, path, makedirs\n",
    "from os.path import isfile, isdir, join, basename\n",
    "\n",
    "img_base_path = 'kaist_dataset'\n",
    "\n",
    "\n",
    "def get_subdir_dict(base_path):\n",
    "    sub_dirnames = [f for f in listdir(base_path) if isdir(join(base_path, f))]\n",
    "    sub_dirnames\n",
    "    dir_subdir_names = dict()\n",
    "    for dirname in data_dirnames:\n",
    "        data_subdirnames = [f for f in listdir(join(img_base_path, dirname)) if isdir(join(img_base_path, dirname, f))]\n",
    "        data_dir_subdir_names[dirname] = data_subdirnames\n",
    "    data_dir_subdir_names"
   ]
  },
  {
   "cell_type": "code",
   "execution_count": 44,
   "metadata": {
    "scrolled": true
   },
   "outputs": [],
   "source": [
    "%matplotlib inline\n",
    "\n",
    "import matplotlib.pyplot as plt\n",
    "import numpy as np\n",
    "from PIL import Image\n",
    "import xml.etree.ElementTree\n",
    "\n",
    "def plot_img_inline(img):\n",
    "    plt.figure()\n",
    "    plt.imshow(np.asarray(img))\n",
    "    plt.show()\n",
    "\n",
    "\n",
    "char_count = dict()\n",
    "\n",
    "def print_img(img, base_path, index_name, char_name):\n",
    "    target_path = join(base_path, char_name)\n",
    "    if not path.exists(target_path):\n",
    "        makedirs(target_path)\n",
    "    image_filename = '.'.join([index_name, char_name, 'jpg'])\n",
    "    full_path = join(target_path, image_filename)\n",
    "    img.save(full_path)\n",
    "    \n",
    "    if char_name not in char_count:\n",
    "        char_count[char_name] = 1\n",
    "    else:\n",
    "        char_count[char_name] = char_count[char_name] + 1\n",
    "    \n",
    "def crop_character_images(base_path, index_name, output_path='char_data'):\n",
    "    image_filename = '.'.join([index_name, 'jpg'])\n",
    "    xml_filename = '.'.join([index_name, 'xml'])\n",
    "    im = Image.open(join(base_path, image_filename))\n",
    "    \n",
    "#     plot_img_inline(im)\n",
    "    e = xml.etree.ElementTree.parse(join(base_path, xml_filename)).getroot()\n",
    "\n",
    "    for image in e:\n",
    "        for words in image:\n",
    "#             print(words.tag, words.attrib)\n",
    "            if words.tag == 'words':\n",
    "                for word in words:\n",
    "#                     print(word.tag, word.attrib)\n",
    "                    for char in word:\n",
    "#                         print(char.tag, char.attrib)\n",
    "                        box = (int(char.attrib['x']), int(char.attrib['y']), int(char.attrib['x']) + int(char.attrib['width']), int(char.attrib['y']) + int(char.attrib['height']))\n",
    "#                         print(box)\n",
    "                        region = im.crop(box)\n",
    "#                         plot_img_inline(region)\n",
    "                        print_img(region, output_path, index_name, char.attrib['char'])\n",
    "\n"
   ]
  },
  {
   "cell_type": "code",
   "execution_count": 55,
   "metadata": {
    "scrolled": true
   },
   "outputs": [
    {
     "name": "stdout",
     "output_type": "stream",
     "text": [
      "['(E.S)A-shadow', '(E.S)B-light', '(E.S)C-outdoor1', '(E.S)C-outdoor2', '(E.S)C-outdoor3', '(E.S)D-indoor', '(E.S)E-night', '(E.S)F-others', '.DS_Store']\n",
      "kaist_dataset/English/Digital_Camera\n",
      "[]\n"
     ]
    }
   ],
   "source": [
    "\n",
    "for parent_path, dir_names in data_dir_subdir_names.items():\n",
    "    for base_path in dir_names:\n",
    "        print(listdir(join(img_base_path, parent_path, base_path)))\n",
    "        print(join(img_base_path, parent_path, base_path))\n",
    "        data_filenames = [path.splitext(f)[0] for f in listdir(join(img_base_path, parent_path, base_path)) if isfile(join(img_base_path, parent_path, base_path, f)) and f.lower().endswith('.jpg')]\n",
    "        print(data_filenames)\n",
    "        break\n",
    "    break\n",
    "#         list(map(lambda x: crop_character_images(base_path, x), data_filenames))"
   ]
  }
 ],
 "metadata": {
  "kernelspec": {
   "display_name": "Python 3",
   "language": "python",
   "name": "python3"
  },
  "language_info": {
   "codemirror_mode": {
    "name": "ipython",
    "version": 3
   },
   "file_extension": ".py",
   "mimetype": "text/x-python",
   "name": "python",
   "nbconvert_exporter": "python",
   "pygments_lexer": "ipython3",
   "version": "3.6.0"
  }
 },
 "nbformat": 4,
 "nbformat_minor": 2
}
